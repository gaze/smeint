{
 "cells": [
  {
   "cell_type": "markdown",
   "metadata": {},
   "source": [
    "First we need to import the sys module so we can add smeint to the PYTHON_PATH."
   ]
  },
  {
   "cell_type": "code",
   "execution_count": 4,
   "metadata": {
    "collapsed": false
   },
   "outputs": [
    {
     "name": "stdout",
     "output_type": "stream",
     "text": [
      "Populating the interactive namespace from numpy and matplotlib\n"
     ]
    }
   ],
   "source": [
    "%pylab inline\n",
    "import sys\n",
    "sys.path.append('./build')\n",
    "\n",
    "import smeint"
   ]
  },
  {
   "cell_type": "markdown",
   "metadata": {},
   "source": [
    "Define some useful operators"
   ]
  },
  {
   "cell_type": "code",
   "execution_count": 5,
   "metadata": {
    "collapsed": true
   },
   "outputs": [],
   "source": [
    "sigz      = np.array([[1,0],[0,-1]],dtype=np.complex)\n",
    "sigx      = np.array([[0,1],[1,0]],dtype=np.complex)\n",
    "ident     = np.array([[1,0],[0,1]],dtype=np.complex)"
   ]
  },
  {
   "cell_type": "code",
   "execution_count": 32,
   "metadata": {
    "collapsed": false
   },
   "outputs": [],
   "source": [
    "eta = 1\n",
    "gamma_d = 0.1\n",
    "\n",
    "H = sigx\n",
    "\n",
    "Vs = []\n",
    "Ms = [sigz]\n",
    "\n",
    "# Instantiate the solver\n",
    "s = smeint.Solver(H)\n",
    "\n",
    "# Add a measurement of sigmaz\n",
    "s.add_measurement(np.sqrt(gamma_d)*sigz,eta)\n",
    "\n",
    "# Any collapse operators can be added like so\n",
    "# s.add_collapse(??)\n",
    "\n",
    "nstep = 1000\n",
    "dt = 0.01\n",
    "\n",
    "rho0 = np.array([[1,0],[0,0]])    \n",
    "dy, rhos =  s.run(rho0,nstep,dt)"
   ]
  },
  {
   "cell_type": "markdown",
   "metadata": {},
   "source": [
    "Then we can print out the ground state probability. Note that the density matrix is returned with the columns stacked to form a column vect"
   ]
  },
  {
   "cell_type": "code",
   "execution_count": 34,
   "metadata": {
    "collapsed": false
   },
   "outputs": [
    {
     "data": {
      "text/plain": [
       "[<matplotlib.lines.Line2D at 0x110734588>]"
      ]
     },
     "execution_count": 34,
     "metadata": {},
     "output_type": "execute_result"
    },
    {
     "data": {
      "image/png": "[encoded data removed]",
      "text/plain": [
       "<matplotlib.figure.Figure at 0x1106ef320>"
      ]
     },
     "metadata": {},
     "output_type": "display_data"
    }
   ],
   "source": [
    "plot(np.abs(rhos[:,0])**2)"
   ]
  }
 ],
 "metadata": {
  "kernelspec": {
   "display_name": "Python 3",
   "language": "python",
   "name": "python3"
  },
  "language_info": {
   "codemirror_mode": {
    "name": "ipython",
    "version": 3
   },
   "file_extension": ".py",
   "mimetype": "text/x-python",
   "name": "python",
   "nbconvert_exporter": "python",
   "pygments_lexer": "ipython3",
   "version": "3.5.1"
  }
 },
 "nbformat": 4,
 "nbformat_minor": 2
}
